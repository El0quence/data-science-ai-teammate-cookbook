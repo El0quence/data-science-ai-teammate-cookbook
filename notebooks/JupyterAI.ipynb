{
 "cells": [
  {
   "cell_type": "markdown",
   "id": "047259e1-88b7-4248-902e-c64af6122c00",
   "metadata": {},
   "source": [
    "# Using JupyterAI to integrate LLM chat client within a notebook"
   ]
  },
  {
   "cell_type": "code",
   "execution_count": null,
   "id": "5db2f6bf-6b00-42ef-adaa-b2eebba64afb",
   "metadata": {},
   "outputs": [],
   "source": [
    "%load_ext jupyter_ai\n",
    "%config AiMagics.default_language_model = \"openai-chat:gpt-4o-mini\""
   ]
  },
  {
   "cell_type": "code",
   "execution_count": null,
   "id": "b2dc5ca9-331c-425c-88ad-106c6e109618",
   "metadata": {},
   "outputs": [],
   "source": [
    "%env OPENAI_API_KEY=[OPENAI_API_KEY["
   ]
  },
  {
   "cell_type": "code",
   "execution_count": null,
   "id": "801d46d2-80d5-403b-aa27-5fdddec8b47d",
   "metadata": {},
   "outputs": [],
   "source": [
    "%%ai chatgpt -f code\n",
    "\n",
    "Using github load the palmer penguin dataset from github and display the variable names. \n",
    "Create a python script that does this\n",
    "\n",
    "GIVEN these variables in the dataset, can you create 3 plots that are useful for people wanting to\n",
    "differentiate these species that use only certain variables say five of them. \n",
    "\n",
    "ONLY use pandas and matplotlib"
   ]
  }
 ],
 "metadata": {
  "kernelspec": {
   "display_name": "Python 3 (ipykernel)",
   "language": "python",
   "name": "python3"
  },
  "language_info": {
   "codemirror_mode": {
    "name": "ipython",
    "version": 3
   },
   "file_extension": ".py",
   "mimetype": "text/x-python",
   "name": "python",
   "nbconvert_exporter": "python",
   "pygments_lexer": "ipython3",
   "version": "3.10.16"
  }
 },
 "nbformat": 4,
 "nbformat_minor": 5
}
