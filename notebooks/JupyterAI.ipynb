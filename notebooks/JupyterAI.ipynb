{
 "cells": [
  {
   "cell_type": "markdown",
   "id": "047259e1-88b7-4248-902e-c64af6122c00",
   "metadata": {},
   "source": [
    "# Using JupyterAI to integrate LLM chat client within a notebook"
   ]
  },
  {
   "cell_type": "markdown",
   "id": "1425e99c-7b98-4826-815a-00481d24284e",
   "metadata": {},
   "source": [
    ":::{warning}\n",
    "When running this notebook, execute each cell one at a time with\n",
    "shift-Enter. Do not try and use the Run All Cells command from Jupyter.\n",
    ":::"
   ]
  },
  {
   "cell_type": "markdown",
   "id": "f918298f-ed69-4790-95bd-d50f671002ef",
   "metadata": {},
   "source": [
    "This notebook using [JupyterAI](https://jupyter-ai.readthedocs.io/en/v2/) in connect the Jupyter Notebook interface to a variety of different LLM models. "
   ]
  },
  {
   "cell_type": "code",
   "execution_count": null,
   "id": "5db2f6bf-6b00-42ef-adaa-b2eebba64afb",
   "metadata": {},
   "outputs": [],
   "source": [
    "%load_ext jupyter_ai\n",
    "%config AiMagics.default_language_model = \"openai-chat:gpt-4o\""
   ]
  },
  {
   "cell_type": "markdown",
   "id": "69afb385-6fee-40e7-9529-2c56421ba100",
   "metadata": {},
   "source": [
    "Using an LLM usually requires setting up a API key.  This cell loads that API key."
   ]
  },
  {
   "cell_type": "code",
   "execution_count": null,
   "id": "227dace4-9041-48e1-979b-218bbbcf679a",
   "metadata": {},
   "outputs": [],
   "source": [
    "from dotenv import load_dotenv\n",
    "import os\n",
    "\n",
    "# Load environment variables\n",
    "load_dotenv('apikeys.txt')\n",
    "\n",
    "# assumes there is a local file called `apikeys.txt` that contains a line of the form\n",
    "# OPENAI_API_KEY=<mysecret_api_key>"
   ]
  },
  {
   "cell_type": "markdown",
   "id": "85c8ab64-52c5-45ef-b17d-3aa54534acfd",
   "metadata": {},
   "source": [
    "We an embed LLM prompts directly in a notebook code cell and using the magic `%%ai` to communicate with the LLM."
   ]
  },
  {
   "cell_type": "markdown",
   "id": "7d4f684f-15fe-4497-9203-23fa1020756a",
   "metadata": {},
   "source": [
    "We want to ask for the LLM help in analyzing the Palmer Penguin dataset. JupyterAI allows us to place the prompts directly in the notebook."
   ]
  },
  {
   "cell_type": "code",
   "execution_count": null,
   "id": "d6d85a58-f678-4643-a7f7-e01cf8e2e925",
   "metadata": {},
   "outputs": [],
   "source": [
    "%%ai -f code \n",
    "\n",
    "\"Using github load the Palmer Penguin dataset from github and display the variable names. \""
   ]
  },
  {
   "cell_type": "markdown",
   "id": "76beb4c6-00d9-45c7-a0ab-c814f621f869",
   "metadata": {},
   "source": [
    "The generated code from the LLM to open the dataset now appears above."
   ]
  },
  {
   "cell_type": "code",
   "execution_count": null,
   "id": "dd8317bf-fb80-4401-a6ec-a1ab269aa0f1",
   "metadata": {},
   "outputs": [],
   "source": [
    "%%ai -f code \n",
    "\n",
    "\"\"\"\n",
    "Using the variables in the dataset, create 3 plotsto\n",
    "differentiate these species that use five of these variables.\n",
    "\n",
    "Only use the Python packages pandas and matplotlib in your code.\n",
    "\"\"\""
   ]
  },
  {
   "cell_type": "markdown",
   "id": "45e5b83b-1d12-4ce8-9b61-d3dcab9f03da",
   "metadata": {},
   "source": [
    "Finally, we can get some preliminary analysis of these plots."
   ]
  },
  {
   "cell_type": "code",
   "execution_count": null,
   "id": "0dff2eb2-70c2-4651-b606-65f8215bc379",
   "metadata": {},
   "outputs": [],
   "source": [
    "%%ai -f html\n",
    "\n",
    "\"\"\"\n",
    "Explain what these plots show about about the Palmer Penguin dataset\n",
    "\"\"\""
   ]
  }
 ],
 "metadata": {
  "kernelspec": {
   "display_name": "Python 3 (ipykernel)",
   "language": "python",
   "name": "python3"
  },
  "language_info": {
   "codemirror_mode": {
    "name": "ipython",
    "version": 3
   },
   "file_extension": ".py",
   "mimetype": "text/x-python",
   "name": "python",
   "nbconvert_exporter": "python",
   "pygments_lexer": "ipython3",
   "version": "3.10.16"
  }
 },
 "nbformat": 4,
 "nbformat_minor": 5
}
